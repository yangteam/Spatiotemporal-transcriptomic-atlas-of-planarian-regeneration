{
 "cells": [
  {
   "cell_type": "code",
   "execution_count": 1,
   "id": "2f38d667-ddb1-41d5-b540-7f6165b7edac",
   "metadata": {},
   "outputs": [],
   "source": [
    "import pandas as pd\n",
    "import numpy as np\n",
    "import os\n",
    "import scanpy as sc\n",
    "import matplotlib.pyplot as plt\n",
    "import seaborn as sns"
   ]
  },
  {
   "cell_type": "code",
   "execution_count": 2,
   "id": "e339d001-8436-4912-a209-76812f04498c",
   "metadata": {},
   "outputs": [],
   "source": [
    "plt.rcParams['font.family'] = \"sans-serif\"\n",
    "plt.rcParams['font.sans-serif'] = \"Arial\""
   ]
  },
  {
   "cell_type": "code",
   "execution_count": 3,
   "id": "d0f84e30-2ceb-41ca-a20d-92fe1f98f1b7",
   "metadata": {},
   "outputs": [],
   "source": [
    "TimePoint_list = ['0hpa', '6hpa', '12hpa', '1dpa', '3dpa', '7dpa']\n",
    "CellType_list = ['Epidermal', 'Gut', 'Muscle', 'Neoblast', 'Neuronal', 'Parenchymal', 'Secretory']"
   ]
  },
  {
   "cell_type": "code",
   "execution_count": 4,
   "id": "1b577c2e-cc52-464a-ad14-dd51aca867fe",
   "metadata": {},
   "outputs": [],
   "source": [
    "adata_list = {}\n",
    "for temp_timepoint in TimePoint_list:\n",
    "    adata_list[temp_timepoint] = sc.read('../../Data/Visium/Visium_'+temp_timepoint+'.h5ad')\n",
    "    adata_list[temp_timepoint].obs['Timepoint'] = temp_timepoint"
   ]
  },
  {
   "cell_type": "markdown",
   "id": "0e476fe4-913e-4846-bf0e-e506059059d5",
   "metadata": {},
   "source": [
    "# Wound-A"
   ]
  },
  {
   "cell_type": "code",
   "execution_count": 5,
   "id": "5acd6911-fe43-4502-8a73-45a89c1ae71b",
   "metadata": {},
   "outputs": [
    {
     "name": "stdout",
     "output_type": "stream",
     "text": [
      "0hpa (8949, 27664)\n",
      "(1319, 27664)\n",
      "6hpa (7304, 27664)\n",
      "(235, 27664)\n",
      "12hpa (10156, 27664)\n",
      "(759, 27664)\n",
      "1dpa (8423, 27664)\n",
      "(460, 27664)\n",
      "3dpa (8365, 27664)\n",
      "(366, 27664)\n",
      "7dpa (10210, 27664)\n",
      "(485, 27664)\n"
     ]
    }
   ],
   "source": [
    "for temp_timepoint in TimePoint_list:\n",
    "    print(temp_timepoint, adata_list[temp_timepoint].shape)\n",
    "    adata_list[temp_timepoint] = adata_list[temp_timepoint][adata_list[temp_timepoint].obs['AP_Info'].isin(['AP-1', 'AP-2'])]\n",
    "    print(adata_list[temp_timepoint].shape)"
   ]
  },
  {
   "cell_type": "code",
   "execution_count": 18,
   "id": "454bee4a-8e97-47d7-9cdb-9252ce21590b",
   "metadata": {},
   "outputs": [],
   "source": [
    "Cell2location_df = {}\n",
    "Cell2location_rate_df = {}\n",
    "for temp_timepoint in TimePoint_list:\n",
    "    Cell2location_df[temp_timepoint] = adata_list[temp_timepoint].obs.loc[:, ['cell2location_'+x for x in CellType_list]]\n",
    "    Cell2location_df[temp_timepoint].columns = [x.split('_')[1] for x in Cell2location_df[temp_timepoint].columns]\n",
    "    Cell2location_rate_df[temp_timepoint] = (Cell2location_df[temp_timepoint].T/np.sum(Cell2location_df[temp_timepoint].T)).T"
   ]
  },
  {
   "cell_type": "code",
   "execution_count": 19,
   "id": "c7a7e747-ec10-41c8-b104-e329b1dedf20",
   "metadata": {},
   "outputs": [
    {
     "name": "stdout",
     "output_type": "stream",
     "text": [
      "0hpa\n",
      "6hpa\n",
      "12hpa\n",
      "1dpa\n",
      "3dpa\n",
      "7dpa\n"
     ]
    }
   ],
   "source": [
    "co_list = {}\n",
    "for temp_timepoint in TimePoint_list:\n",
    "    print(temp_timepoint)\n",
    "    co_list[temp_timepoint] = {}\n",
    "    for it in Cell2location_rate_df[temp_timepoint].index:\n",
    "        temp_df = Cell2location_rate_df[temp_timepoint].loc[it, Cell2location_rate_df[temp_timepoint].loc[it,:]>0.1]\n",
    "        temp_df = temp_df.sort_values()[::-1]\n",
    "        co_list[temp_timepoint][it] = np.array(temp_df.index[:3])"
   ]
  },
  {
   "cell_type": "code",
   "execution_count": 22,
   "id": "7ec17ee7-cc4b-4ec6-a6ed-c3d9be57f21e",
   "metadata": {},
   "outputs": [
    {
     "name": "stdout",
     "output_type": "stream",
     "text": [
      "0hpa\n",
      "6hpa\n",
      "12hpa\n",
      "1dpa\n",
      "3dpa\n",
      "7dpa\n"
     ]
    }
   ],
   "source": [
    "co_df = {}\n",
    "for temp_timepoint in TimePoint_list:\n",
    "    co_df[temp_timepoint] = pd.DataFrame(0, index=CellType_list, columns=CellType_list)\n",
    "    print(temp_timepoint)\n",
    "    for it in co_list[temp_timepoint].keys():\n",
    "        temp_list = co_list[temp_timepoint][it]\n",
    "        if temp_list.shape[0]==1:\n",
    "            continue\n",
    "        for it1 in temp_list:\n",
    "            for it2 in temp_list:\n",
    "                if it1==it2:\n",
    "                    continue\n",
    "                co_df[temp_timepoint].loc[it1, it2] += 1"
   ]
  },
  {
   "cell_type": "code",
   "execution_count": 24,
   "id": "3a2e3822-c043-449a-a3dd-1f3ec5357862",
   "metadata": {
    "tags": []
   },
   "outputs": [],
   "source": [
    "for temp_tp in TimePoint_list:\n",
    "    co_df[temp_tp].to_csv('Colocation/'+temp_tp+'_Wound-A.txt', sep='\\t')"
   ]
  },
  {
   "cell_type": "code",
   "execution_count": null,
   "id": "8882832f-5e82-4fd5-93e0-c80b34d3eb52",
   "metadata": {},
   "outputs": [],
   "source": []
  },
  {
   "cell_type": "code",
   "execution_count": null,
   "id": "670462e8-3e61-4e1d-a37b-228973de2cbc",
   "metadata": {},
   "outputs": [],
   "source": []
  }
 ],
 "metadata": {
  "kernelspec": {
   "display_name": "Python 3 (ipykernel)",
   "language": "python",
   "name": "python3"
  },
  "language_info": {
   "codemirror_mode": {
    "name": "ipython",
    "version": 3
   },
   "file_extension": ".py",
   "mimetype": "text/x-python",
   "name": "python",
   "nbconvert_exporter": "python",
   "pygments_lexer": "ipython3",
   "version": "3.9.7"
  }
 },
 "nbformat": 4,
 "nbformat_minor": 5
}
