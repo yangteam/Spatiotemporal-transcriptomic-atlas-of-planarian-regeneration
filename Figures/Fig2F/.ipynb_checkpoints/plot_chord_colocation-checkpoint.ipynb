{
 "cells": [
  {
   "cell_type": "code",
   "execution_count": 1,
   "id": "e43740aa-9a13-4e75-ab79-2e07ad6f07fe",
   "metadata": {},
   "outputs": [
    {
     "name": "stderr",
     "output_type": "stream",
     "text": [
      "Warning message:\n",
      "\"程辑包'circlize'是用R版本4.1.3 来建造的\"\n",
      "========================================\n",
      "circlize version 0.4.15\n",
      "CRAN page: https://cran.r-project.org/package=circlize\n",
      "Github page: https://github.com/jokergoo/circlize\n",
      "Documentation: https://jokergoo.github.io/circlize_book/book/\n",
      "\n",
      "If you use it in published research, please cite:\n",
      "Gu, Z. circlize implements and enhances circular visualization\n",
      "  in R. Bioinformatics 2014.\n",
      "\n",
      "This message can be suppressed by:\n",
      "  suppressPackageStartupMessages(library(circlize))\n",
      "========================================\n",
      "\n",
      "\n"
     ]
    }
   ],
   "source": [
    "library(circlize)"
   ]
  },
  {
   "cell_type": "code",
   "execution_count": 2,
   "id": "b62ba57a-2642-44e3-9178-da688512f571",
   "metadata": {},
   "outputs": [],
   "source": [
    "colors <- c(Epidermal = \"#aa40fc\", Gut = \"#279e68\",\n",
    "            Muscle = \"#d62728\", Neoblast = \"#A9A9A9\",\n",
    "            Neuronal = \"#ff7f0e\", Parenchymal = \"#e377c2\",\n",
    "            Secretory = \"#1f77b4\")"
   ]
  },
  {
   "cell_type": "code",
   "execution_count": 4,
   "id": "6d4b8087-6f09-483f-a8c3-2d3171333cee",
   "metadata": {},
   "outputs": [],
   "source": [
    "TimePoint = c('0hpa', '6hpa', '12hpa', '1dpa', '3dpa', '7dpa')"
   ]
  },
  {
   "cell_type": "markdown",
   "id": "14b93582-8966-4402-9916-68fa9904984c",
   "metadata": {},
   "source": [
    "# With Legend"
   ]
  },
  {
   "cell_type": "code",
   "execution_count": 7,
   "id": "6255fe8f-4f69-434b-aeec-78d4ff80f5c5",
   "metadata": {},
   "outputs": [],
   "source": [
    "for (temp_tp in TimePoint){\n",
    "    input_file = paste0('Colocation/', temp_tp, '_Wound-A.txt')\n",
    "    output_file = paste0('Images/', temp_tp, '_legend.pdf')\n",
    "    mat = read.delim(input_file, sep='\\t', row.names = 1)\n",
    "    mat = as.matrix(mat)\n",
    "    mat[mat==100]=0\n",
    "    \n",
    "    lwd_mat = matrix(1, nrow = nrow(mat), ncol = ncol(mat))\n",
    "    rownames(lwd_mat) = rownames(mat)\n",
    "    colnames(lwd_mat) = colnames(mat)\n",
    "    lwd_mat['Epidermal', 'Neoblast'] = 2\n",
    "    lwd_mat['Neoblast', 'Epidermal'] = 2\n",
    "    lwd_mat['Neoblast', 'Parenchymal'] = 2\n",
    "    lwd_mat['Parenchymal', 'Neoblast'] = 2\n",
    "    \n",
    "    border_mat = matrix(NA, nrow = nrow(mat), ncol = ncol(mat))\n",
    "    rownames(border_mat) = rownames(mat)\n",
    "    colnames(border_mat) = colnames(mat)\n",
    "    border_mat['Epidermal', 'Neoblast'] = 'blue'\n",
    "    border_mat['Neoblast', 'Epidermal'] = 'blue'\n",
    "    border_mat['Neoblast', 'Parenchymal'] = 'red'\n",
    "    border_mat['Parenchymal', 'Neoblast'] = 'red'\n",
    "    \n",
    "    pdf(output_file,  width=3, height =3)\n",
    "    chordDiagram(mat, symmetric = TRUE, grid.col = colors, annotationTrackHeight = c(0.01,  0.1),\n",
    "             annotationTrack = c(\"name\", \"grid\"), link.lwd = 1.5, link.border = border_mat, link.lty = 2)# ,preAllocateTracks = list(track.height = max(strwidth(unlist(dimnames(mat))))))\n",
    "    dev.off()\n",
    "}"
   ]
  },
  {
   "cell_type": "markdown",
   "id": "f0a0565a-dfda-4398-8cc7-26b6b5cdd07c",
   "metadata": {},
   "source": [
    "# Without Legend"
   ]
  },
  {
   "cell_type": "code",
   "execution_count": 8,
   "id": "6df7559c-1b11-47e0-bf18-79b92b100054",
   "metadata": {},
   "outputs": [],
   "source": [
    "for (temp_tp in TimePoint){\n",
    "    input_file = paste0('Colocation/', temp_tp, '_Wound-A.txt')\n",
    "    output_file = paste0('Images/', temp_tp, '.pdf')\n",
    "    mat = read.delim(input_file, sep='\\t', row.names = 1)\n",
    "    mat = as.matrix(mat)\n",
    "    mat[mat==100]=0\n",
    "    \n",
    "    lwd_mat = matrix(1, nrow = nrow(mat), ncol = ncol(mat))\n",
    "    rownames(lwd_mat) = rownames(mat)\n",
    "    colnames(lwd_mat) = colnames(mat)\n",
    "    lwd_mat['Epidermal', 'Neoblast'] = 2\n",
    "    lwd_mat['Neoblast', 'Epidermal'] = 2\n",
    "    lwd_mat['Neoblast', 'Parenchymal'] = 2\n",
    "    lwd_mat['Parenchymal', 'Neoblast'] = 2\n",
    "    \n",
    "    border_mat = matrix(NA, nrow = nrow(mat), ncol = ncol(mat))\n",
    "    rownames(border_mat) = rownames(mat)\n",
    "    colnames(border_mat) = colnames(mat)\n",
    "    border_mat['Epidermal', 'Neoblast'] = 'blue'\n",
    "    border_mat['Neoblast', 'Epidermal'] = 'blue'\n",
    "    border_mat['Neoblast', 'Parenchymal'] = 'red'\n",
    "    border_mat['Parenchymal', 'Neoblast'] = 'red'\n",
    "    \n",
    "    pdf(output_file,  width=3, height =3)\n",
    "    chordDiagram(mat, symmetric = TRUE, grid.col = colors, annotationTrackHeight = c( 0.1),\n",
    "             annotationTrack = c(\"grid\"), link.lwd = 1.5, link.border = border_mat, link.lty = 2)# ,preAllocateTracks = list(track.height = max(strwidth(unlist(dimnames(mat))))))\n",
    "    dev.off()\n",
    "}"
   ]
  },
  {
   "cell_type": "code",
   "execution_count": null,
   "id": "e83edb82-5767-4e4d-aeff-3c8256c2303e",
   "metadata": {},
   "outputs": [],
   "source": []
  }
 ],
 "metadata": {
  "kernelspec": {
   "display_name": "R",
   "language": "R",
   "name": "ir"
  },
  "language_info": {
   "codemirror_mode": "r",
   "file_extension": ".r",
   "mimetype": "text/x-r-source",
   "name": "R",
   "pygments_lexer": "r",
   "version": "4.1.2"
  }
 },
 "nbformat": 4,
 "nbformat_minor": 5
}
