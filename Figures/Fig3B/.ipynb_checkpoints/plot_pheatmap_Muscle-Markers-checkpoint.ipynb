{
 "cells": [
  {
   "cell_type": "code",
   "execution_count": 1,
   "id": "97081426-602b-460f-9b36-b06bf52f007f",
   "metadata": {},
   "outputs": [
    {
     "name": "stderr",
     "output_type": "stream",
     "text": [
      "Warning message:\n",
      "\"程辑包'pheatmap'是用R版本4.1.3 来建造的\"\n",
      "Warning message:\n",
      "\"程辑包'ggplot2'是用R版本4.1.3 来建造的\"\n"
     ]
    }
   ],
   "source": [
    "library(pheatmap)\n",
    "library(ggplot2)"
   ]
  },
  {
   "cell_type": "code",
   "execution_count": 2,
   "id": "58d3c5c3-d773-43e7-bad3-650afa13c95d",
   "metadata": {},
   "outputs": [],
   "source": [
    "plot_df = read.delim('muscle_Markers_Expression_symbol_scaled.txt', sep='\\t', row.names = 1)\n",
    "colnames(plot_df) = c('muscle DV', 'muscle body 1', 'muscle body 2', 'muscle genital', 'muscle pharynx')"
   ]
  },
  {
   "cell_type": "code",
   "execution_count": 3,
   "id": "4483c686-ac56-412a-95c9-5f983ca13a5e",
   "metadata": {},
   "outputs": [
    {
     "data": {
      "text/html": [
       "<style>\n",
       ".list-inline {list-style: none; margin:0; padding: 0}\n",
       ".list-inline>li {display: inline-block}\n",
       ".list-inline>li:not(:last-child)::after {content: \"\\00b7\"; padding: 0 .5ex}\n",
       "</style>\n",
       "<ol class=list-inline><li>'snail'</li><li>'myod'</li><li>'lbx1'</li><li>'nkx6-2'</li><li>'nkx1-1'</li><li>'gata4/5/6-2'</li><li>'nk4'</li><li>'ptprd'</li><li>'hspg2'</li><li>'SMED19102'</li><li>'SMED18614'</li><li>'nog'</li><li>'irx4'</li><li>'anos1'</li><li>'jag1'</li><li>'ntn1'</li><li>'otop2'</li><li>'sbspon'</li><li>'ptprs'</li><li>'atx1l'</li><li>'six6'</li><li>'tpm1'</li><li>'rorb'</li><li>'kalm'</li><li>'neurod-2'</li></ol>\n"
      ],
      "text/latex": [
       "\\begin{enumerate*}\n",
       "\\item 'snail'\n",
       "\\item 'myod'\n",
       "\\item 'lbx1'\n",
       "\\item 'nkx6-2'\n",
       "\\item 'nkx1-1'\n",
       "\\item 'gata4/5/6-2'\n",
       "\\item 'nk4'\n",
       "\\item 'ptprd'\n",
       "\\item 'hspg2'\n",
       "\\item 'SMED19102'\n",
       "\\item 'SMED18614'\n",
       "\\item 'nog'\n",
       "\\item 'irx4'\n",
       "\\item 'anos1'\n",
       "\\item 'jag1'\n",
       "\\item 'ntn1'\n",
       "\\item 'otop2'\n",
       "\\item 'sbspon'\n",
       "\\item 'ptprs'\n",
       "\\item 'atx1l'\n",
       "\\item 'six6'\n",
       "\\item 'tpm1'\n",
       "\\item 'rorb'\n",
       "\\item 'kalm'\n",
       "\\item 'neurod-2'\n",
       "\\end{enumerate*}\n"
      ],
      "text/markdown": [
       "1. 'snail'\n",
       "2. 'myod'\n",
       "3. 'lbx1'\n",
       "4. 'nkx6-2'\n",
       "5. 'nkx1-1'\n",
       "6. 'gata4/5/6-2'\n",
       "7. 'nk4'\n",
       "8. 'ptprd'\n",
       "9. 'hspg2'\n",
       "10. 'SMED19102'\n",
       "11. 'SMED18614'\n",
       "12. 'nog'\n",
       "13. 'irx4'\n",
       "14. 'anos1'\n",
       "15. 'jag1'\n",
       "16. 'ntn1'\n",
       "17. 'otop2'\n",
       "18. 'sbspon'\n",
       "19. 'ptprs'\n",
       "20. 'atx1l'\n",
       "21. 'six6'\n",
       "22. 'tpm1'\n",
       "23. 'rorb'\n",
       "24. 'kalm'\n",
       "25. 'neurod-2'\n",
       "\n",
       "\n"
      ],
      "text/plain": [
       " [1] \"snail\"       \"myod\"        \"lbx1\"        \"nkx6-2\"      \"nkx1-1\"     \n",
       " [6] \"gata4/5/6-2\" \"nk4\"         \"ptprd\"       \"hspg2\"       \"SMED19102\"  \n",
       "[11] \"SMED18614\"   \"nog\"         \"irx4\"        \"anos1\"       \"jag1\"       \n",
       "[16] \"ntn1\"        \"otop2\"       \"sbspon\"      \"ptprs\"       \"atx1l\"      \n",
       "[21] \"six6\"        \"tpm1\"        \"rorb\"        \"kalm\"        \"neurod-2\"   "
      ]
     },
     "metadata": {},
     "output_type": "display_data"
    }
   ],
   "source": [
    "rownames(plot_df)"
   ]
  },
  {
   "cell_type": "code",
   "execution_count": 4,
   "id": "70aba567-95c1-4f08-84ee-efc6aab23d80",
   "metadata": {},
   "outputs": [],
   "source": [
    "rownames(plot_df) = c('snail','myod','lbx1','nkx6-2','nkx1-1','gata4/5/6-2','nk4',\n",
    "                      'ptprd','hspg2','smed19102','smed18614','nog','irx4','anos1',\n",
    "                      'jag1','ntn1','otop2','sbspon','ptprs','atx1l','six6','tpm1','rorb','kalm','neurod-2')"
   ]
  },
  {
   "cell_type": "code",
   "execution_count": 5,
   "id": "a9824cf8-5872-4dbb-a77c-a22b0d0733fb",
   "metadata": {},
   "outputs": [],
   "source": [
    "plot_df = t(plot_df)"
   ]
  },
  {
   "cell_type": "code",
   "execution_count": 6,
   "id": "46fe04ca-b896-467d-90b1-2a65703c6976",
   "metadata": {},
   "outputs": [],
   "source": [
    "label_order = c('muscle DV', 'muscle body 1', 'muscle body 2', 'muscle pharynx', 'muscle genital')\n",
    "gene_order = c('nk4', 'gata4/5/6-2', 'nkx1-1', 'myod', 'snail', 'lbx1', 'nkx6-2', 'hspg2', 'ptprd', \n",
    "               'sbspon', 'ptprs', 'atx1l', 'six6',\n",
    "               'smed19102', 'smed18614', 'nog', 'irx4',\n",
    "               'anos1','jag1', 'ntn1', 'otop2',\n",
    "               'neurod-2', 'kalm','tpm1', 'rorb')"
   ]
  },
  {
   "cell_type": "code",
   "execution_count": 7,
   "id": "c6f3cdcc-af7c-4d6e-b954-dda2c89ab8ee",
   "metadata": {},
   "outputs": [],
   "source": [
    "plot_df = plot_df[label_order, gene_order]"
   ]
  },
  {
   "cell_type": "code",
   "execution_count": 8,
   "id": "ba8535c8-ceef-4417-a145-2e573eb5a4c3",
   "metadata": {},
   "outputs": [],
   "source": [
    "newnames <- lapply(\n",
    "  colnames(plot_df),\n",
    "  function(x) bquote(italic(.(x))))"
   ]
  },
  {
   "cell_type": "code",
   "execution_count": 9,
   "id": "21bd5240-7460-4cc3-95f8-e549ef04f8f7",
   "metadata": {},
   "outputs": [],
   "source": [
    "pheatmap(plot_df,cellwidth=10, cellheight=8, fontfamily= 'sans', gaps_col=c(9),angle_col=90,\n",
    "         labels_col=as.expression(newnames),\n",
    "         cluster_rows=FALSE, cluster_cols=FALSE, filename='muscle_markers_small_Italic.pdf')"
   ]
  },
  {
   "cell_type": "code",
   "execution_count": null,
   "id": "41c91099-696e-43c3-b67b-839c2337aa51",
   "metadata": {},
   "outputs": [],
   "source": []
  }
 ],
 "metadata": {
  "kernelspec": {
   "display_name": "R",
   "language": "R",
   "name": "ir"
  },
  "language_info": {
   "codemirror_mode": "r",
   "file_extension": ".r",
   "mimetype": "text/x-r-source",
   "name": "R",
   "pygments_lexer": "r",
   "version": "4.1.2"
  }
 },
 "nbformat": 4,
 "nbformat_minor": 5
}
