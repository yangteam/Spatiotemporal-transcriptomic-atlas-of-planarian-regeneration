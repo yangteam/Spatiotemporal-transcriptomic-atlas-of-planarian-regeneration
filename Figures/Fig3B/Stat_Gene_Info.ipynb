{
 "cells": [
  {
   "cell_type": "code",
   "execution_count": 1,
   "id": "a02acf55-5038-4065-98e1-f05781481761",
   "metadata": {},
   "outputs": [],
   "source": [
    "import pandas as pd\n",
    "import numpy as np\n",
    "import scanpy as sc\n",
    "import os\n",
    "import seaborn as sns\n",
    "import matplotlib.pyplot as plt\n",
    "from sklearn.utils import shuffle"
   ]
  },
  {
   "cell_type": "code",
   "execution_count": 2,
   "id": "a48bce4d-2a76-4a33-830d-07b7e48f1744",
   "metadata": {},
   "outputs": [],
   "source": [
    "sc.set_figure_params(dpi=200, dpi_save=300)"
   ]
  },
  {
   "cell_type": "code",
   "execution_count": 3,
   "id": "c2fef94b-f0c4-470b-9b94-2d6d45347a66",
   "metadata": {},
   "outputs": [],
   "source": [
    "adata = sc.read('../../Data/adata_scRNA_Annotated.h5ad')\n",
    "sc.pp.normalize_total(adata, target_sum=1e4)\n",
    "sc.pp.log1p(adata)"
   ]
  },
  {
   "cell_type": "code",
   "execution_count": 4,
   "id": "9b4e483b-0706-4ca9-a16d-760b19528b4e",
   "metadata": {},
   "outputs": [],
   "source": [
    "muscle_subset = ['muscle DV', 'muscle body 1', 'muscle body 2', 'muscle genital', 'muscle pharynx']"
   ]
  },
  {
   "cell_type": "code",
   "execution_count": 5,
   "id": "1588961c-c594-435b-9c1e-1da6c564ed6e",
   "metadata": {},
   "outputs": [],
   "source": [
    "adata_muscle = adata[adata.obs['Annotation'].isin(muscle_subset)]"
   ]
  },
  {
   "cell_type": "code",
   "execution_count": 6,
   "id": "e852b527-df61-4dd4-bd0a-4ed640d18b21",
   "metadata": {},
   "outputs": [],
   "source": [
    "marker_list_dict = {}\n",
    "marker_list_dict['known markers'] = ['SMED30023573', 'SMED30008639', 'SMED30025723', \n",
    "                                     'SMED30016686', 'SMED30019740', 'SMED30002349', \n",
    "                                     'SMED30002616', 'SMED30022812', 'SMED30017714']\n",
    "\n",
    "marker_list_dict['muscle body 1'] = ['SMED30019102', 'SMED30018614', 'SMED30026932', 'SMED30018309']\n",
    "\n",
    "marker_list_dict['muscle body 2'] = ['SMED30017664', 'SMED30018205', 'SMED30015232', 'SMED30024125']\n",
    "\n",
    "marker_list_dict['muscle DV'] = ['SMED30024778', 'SMED30028312', 'SMED30028043', 'SMED30015191']\n",
    "\n",
    "marker_list_dict['pharynx'] = ['SMED30015345', 'SMED30004154', 'SMED30025680', 'SMED30004868']"
   ]
  },
  {
   "cell_type": "code",
   "execution_count": 7,
   "id": "f39ec4ec-79bf-4c2e-9f65-158b18fa0231",
   "metadata": {},
   "outputs": [],
   "source": [
    "symbol_trans_dict = {}\n",
    "symbol_trans_dict['SMED30023573'] = 'snail'\n",
    "symbol_trans_dict['SMED30008639'] = 'myod'\n",
    "symbol_trans_dict['SMED30025723'] = 'lbx1'\n",
    "symbol_trans_dict['SMED30016686'] = 'nkx6-2'\n",
    "symbol_trans_dict['SMED30019740'] = 'nkx1-1'\n",
    "symbol_trans_dict['SMED30002349'] = 'gata4/5/6-2'\n",
    "symbol_trans_dict['SMED30002616'] = 'nk4'\n",
    "symbol_trans_dict['SMED30022812'] = 'ptprd'\n",
    "symbol_trans_dict['SMED30017714'] = 'hspg2'\n",
    "\n",
    "symbol_trans_dict['SMED30019102'] = \"SMED19102\" #'dd_15058'\n",
    "symbol_trans_dict['SMED30018614'] = \"SMED18614\" #'dd_5372'\n",
    "symbol_trans_dict['SMED30026932'] = 'nog'\n",
    "symbol_trans_dict['SMED30018309'] = 'irx4'\n",
    "\n",
    "symbol_trans_dict['SMED30017664'] = 'anos1'\n",
    "symbol_trans_dict['SMED30018205'] = 'jag1'\n",
    "symbol_trans_dict['SMED30015232'] = 'ntn1'\n",
    "symbol_trans_dict['SMED30024125'] = 'otop2'\n",
    "\n",
    "\n",
    "symbol_trans_dict['SMED30024778'] = 'sbspon'\n",
    "symbol_trans_dict['SMED30028312'] = 'ptprs'\n",
    "symbol_trans_dict['SMED30028043'] = 'atx1l'\n",
    "symbol_trans_dict['SMED30015191'] = 'six6'\n",
    "\n",
    "symbol_trans_dict['SMED30015345'] = 'tpm1'\n",
    "symbol_trans_dict['SMED30004154'] = 'rorb'\n",
    "symbol_trans_dict['SMED30025680'] = 'kalm'\n",
    "symbol_trans_dict['SMED30004868'] = 'neurod-2'"
   ]
  },
  {
   "cell_type": "code",
   "execution_count": 8,
   "id": "5fc157e6-3335-4d97-bc49-c1483fe28997",
   "metadata": {},
   "outputs": [],
   "source": [
    "heatmap_df = pd.DataFrame(index=list(symbol_trans_dict.keys()))\n",
    "for it in muscle_subset:\n",
    "    subadata = adata_muscle[adata_muscle.obs['Annotation'] == it]\n",
    "    sub_df = pd.DataFrame(subadata.X.toarray(), columns=subadata.var_names)\n",
    "    sub_df = sub_df.loc[:, list(symbol_trans_dict.keys())]\n",
    "    heatmap_df[it] = np.mean(sub_df)"
   ]
  },
  {
   "cell_type": "code",
   "execution_count": 9,
   "id": "6a12d1ab-db3c-4836-b195-246f2343914d",
   "metadata": {},
   "outputs": [],
   "source": [
    "heatmap_df_symbol = heatmap_df.copy()\n",
    "heatmap_df_symbol.index = [symbol_trans_dict[x] for x in heatmap_df_symbol.index]"
   ]
  },
  {
   "cell_type": "code",
   "execution_count": 10,
   "id": "875657f7-e676-41e3-9e07-fa4e550ba4dc",
   "metadata": {},
   "outputs": [],
   "source": [
    "heatmap_df.to_csv('muscle_Markers_Expression.txt', sep='\\t')"
   ]
  },
  {
   "cell_type": "code",
   "execution_count": 11,
   "id": "ab695fd1-57aa-4d27-9ec7-42a2a6ee3a86",
   "metadata": {},
   "outputs": [],
   "source": [
    "heatmap_df_symbol.to_csv('muscle_Markers_Expression_symbol.txt', sep='\\t')"
   ]
  },
  {
   "cell_type": "code",
   "execution_count": 12,
   "id": "e36cbea3-ee93-4f37-b855-60ac07529721",
   "metadata": {},
   "outputs": [],
   "source": [
    "heatmap_df = heatmap_df.T\n",
    "heatmap_df = heatmap_df - np.min(heatmap_df)\n",
    "heatmap_df = heatmap_df/np.max(heatmap_df)\n",
    "heatmap_df = heatmap_df.T"
   ]
  },
  {
   "cell_type": "code",
   "execution_count": 13,
   "id": "c08866bb-55f4-480c-972f-c4296001afff",
   "metadata": {},
   "outputs": [],
   "source": [
    "heatmap_df_symbol = heatmap_df.copy()\n",
    "heatmap_df_symbol.index = [symbol_trans_dict[x] for x in heatmap_df_symbol.index]"
   ]
  },
  {
   "cell_type": "code",
   "execution_count": 14,
   "id": "fd5872c5-4359-47b5-9b7e-0b3d9c87177a",
   "metadata": {},
   "outputs": [],
   "source": [
    "heatmap_df.to_csv('muscle_Markers_Expression_scaled.txt', sep='\\t')"
   ]
  },
  {
   "cell_type": "code",
   "execution_count": 15,
   "id": "6d0dcab7-cf19-4d28-aa8b-0bbb1bf87cc3",
   "metadata": {},
   "outputs": [],
   "source": [
    "heatmap_df_symbol.to_csv('muscle_Markers_Expression_symbol_scaled.txt', sep='\\t')"
   ]
  },
  {
   "cell_type": "code",
   "execution_count": null,
   "id": "0566c408-94b9-498f-9ad0-7367579224e5",
   "metadata": {},
   "outputs": [],
   "source": []
  }
 ],
 "metadata": {
  "kernelspec": {
   "display_name": "Python 3 (ipykernel)",
   "language": "python",
   "name": "python3"
  },
  "language_info": {
   "codemirror_mode": {
    "name": "ipython",
    "version": 3
   },
   "file_extension": ".py",
   "mimetype": "text/x-python",
   "name": "python",
   "nbconvert_exporter": "python",
   "pygments_lexer": "ipython3",
   "version": "3.9.7"
  }
 },
 "nbformat": 4,
 "nbformat_minor": 5
}
