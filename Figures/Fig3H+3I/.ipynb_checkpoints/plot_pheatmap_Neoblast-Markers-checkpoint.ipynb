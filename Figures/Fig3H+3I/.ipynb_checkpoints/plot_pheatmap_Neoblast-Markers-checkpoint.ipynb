{
 "cells": [
  {
   "cell_type": "code",
   "execution_count": 1,
   "id": "e4fb1f6a-9501-4f03-8f0e-95009f22f1d1",
   "metadata": {
    "tags": []
   },
   "outputs": [
    {
     "name": "stderr",
     "output_type": "stream",
     "text": [
      "Warning message:\n",
      "\"程辑包'pheatmap'是用R版本4.1.3 来建造的\"\n",
      "Warning message:\n",
      "\"程辑包'ggplot2'是用R版本4.1.3 来建造的\"\n"
     ]
    }
   ],
   "source": [
    "library(pheatmap)\n",
    "library(ggplot2)"
   ]
  },
  {
   "cell_type": "code",
   "execution_count": 2,
   "id": "efb2bce0-202a-4844-b250-00e169c0800e",
   "metadata": {},
   "outputs": [],
   "source": [
    "plot_df = read.delim('Neoblast_Markers_Expression_symbol_scaled.txt', sep='\\t', row.names = 1)"
   ]
  },
  {
   "cell_type": "code",
   "execution_count": 3,
   "id": "f4935ca5-de18-460a-ba7c-a71b3e7c5306",
   "metadata": {},
   "outputs": [
    {
     "data": {
      "text/html": [
       "<style>\n",
       ".list-inline {list-style: none; margin:0; padding: 0}\n",
       ".list-inline>li {display: inline-block}\n",
       ".list-inline>li:not(:last-child)::after {content: \"\\00b7\"; padding: 0 .5ex}\n",
       "</style>\n",
       "<ol class=list-inline><li>'cml13'</li><li>'capns1a'</li><li>'smed14371'</li><li>'smed3403'</li><li>'runt1'</li><li>'X1.A5.1'</li><li>'egr4'</li><li>'smed30310'</li><li>'tob2'</li><li>'pdzrn4'</li><li>'hspa5'</li><li>'smed25384'</li><li>'osr2'</li><li>'2dbd'</li></ol>\n"
      ],
      "text/latex": [
       "\\begin{enumerate*}\n",
       "\\item 'cml13'\n",
       "\\item 'capns1a'\n",
       "\\item 'smed14371'\n",
       "\\item 'smed3403'\n",
       "\\item 'runt1'\n",
       "\\item 'X1.A5.1'\n",
       "\\item 'egr4'\n",
       "\\item 'smed30310'\n",
       "\\item 'tob2'\n",
       "\\item 'pdzrn4'\n",
       "\\item 'hspa5'\n",
       "\\item 'smed25384'\n",
       "\\item 'osr2'\n",
       "\\item '2dbd'\n",
       "\\end{enumerate*}\n"
      ],
      "text/markdown": [
       "1. 'cml13'\n",
       "2. 'capns1a'\n",
       "3. 'smed14371'\n",
       "4. 'smed3403'\n",
       "5. 'runt1'\n",
       "6. 'X1.A5.1'\n",
       "7. 'egr4'\n",
       "8. 'smed30310'\n",
       "9. 'tob2'\n",
       "10. 'pdzrn4'\n",
       "11. 'hspa5'\n",
       "12. 'smed25384'\n",
       "13. 'osr2'\n",
       "14. '2dbd'\n",
       "\n",
       "\n"
      ],
      "text/plain": [
       " [1] \"cml13\"     \"capns1a\"   \"smed14371\" \"smed3403\"  \"runt1\"     \"X1.A5.1\"  \n",
       " [7] \"egr4\"      \"smed30310\" \"tob2\"      \"pdzrn4\"    \"hspa5\"     \"smed25384\"\n",
       "[13] \"osr2\"      \"2dbd\"     "
      ]
     },
     "metadata": {},
     "output_type": "display_data"
    }
   ],
   "source": [
    "rownames(plot_df)"
   ]
  },
  {
   "cell_type": "code",
   "execution_count": 4,
   "id": "913f0964-b080-4286-81cf-41b382e8f9c6",
   "metadata": {},
   "outputs": [],
   "source": [
    "label_order = c('C7','C19', 'C15', 'C0', 'C1', 'C2', 'C3', 'C4', 'C5', 'C6',  'C8', 'C9', 'C10',\n",
    "       'C11', 'C12', 'C13', 'C14', 'C16', 'C17', 'C18', \n",
    "       'C20', 'C21', 'C22', 'C23', 'C24', 'C25', 'C26')"
   ]
  },
  {
   "cell_type": "code",
   "execution_count": 5,
   "id": "ef37d420-224a-4cff-a50b-b3a67b3d7591",
   "metadata": {},
   "outputs": [],
   "source": [
    "gene_order = c('egr4', 'X1.A5.1', 'tob2', 'hspa5', 'pdzrn4', 'smed3403','smed25384', 'runt1','smed30310', 'cml13', 'capns1a','smed14371', 'osr2', '2dbd')"
   ]
  },
  {
   "cell_type": "code",
   "execution_count": 6,
   "id": "7956442d-e29f-4aa6-8ae9-37e7e45a7250",
   "metadata": {},
   "outputs": [],
   "source": [
    "plot_df = plot_df[gene_order, label_order]"
   ]
  },
  {
   "cell_type": "code",
   "execution_count": 8,
   "id": "1cb1b233-4ba2-4cc5-99ec-cce1f77f1e4d",
   "metadata": {},
   "outputs": [],
   "source": [
    "newnames <- lapply(\n",
    "  rownames(plot_df),\n",
    "  function(x) bquote(italic(.(x))))"
   ]
  },
  {
   "cell_type": "code",
   "execution_count": 9,
   "id": "61bc13c2-0249-48c8-b31d-875a058bbb48",
   "metadata": {},
   "outputs": [],
   "source": [
    "pheatmap(plot_df,cellwidth=10, cellheight=8, fontfamily= 'sans', gaps_col=c(2, 3), angle_col=90,gaps_row=c(7,9, 12),labels_row=as.expression(newnames),\n",
    "         cluster_rows=FALSE, cluster_cols=FALSE, filename='neoblast_markers_small_Italic.pdf')"
   ]
  },
  {
   "cell_type": "code",
   "execution_count": null,
   "id": "047ce0ca-c884-4483-b08c-ee43223a3b63",
   "metadata": {},
   "outputs": [],
   "source": []
  }
 ],
 "metadata": {
  "kernelspec": {
   "display_name": "R",
   "language": "R",
   "name": "ir"
  },
  "language_info": {
   "codemirror_mode": "r",
   "file_extension": ".r",
   "mimetype": "text/x-r-source",
   "name": "R",
   "pygments_lexer": "r",
   "version": "4.1.2"
  }
 },
 "nbformat": 4,
 "nbformat_minor": 5
}
