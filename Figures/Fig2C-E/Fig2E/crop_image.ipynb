{
 "cells": [
  {
   "cell_type": "code",
   "execution_count": null,
   "metadata": {},
   "outputs": [],
   "source": [
    "import math\n",
    "import numpy as np\n",
    "import pandas as pd\n",
    "import matplotlib.pyplot as plt\n",
    "import matplotlib\n",
    "matplotlib.use('Agg')\n",
    "\n",
    "import argparse\n",
    "import subprocess\n",
    "import os\n",
    "\n",
    "import cv2\n",
    "from PIL import Image\n",
    "\n",
    "import glob\n",
    "import shutil"
   ]
  },
  {
   "cell_type": "code",
   "execution_count": null,
   "metadata": {},
   "outputs": [],
   "source": [
    "def pil2cv(image):\n",
    "    ''' PIL -> OpenCV '''\n",
    "    new_image = np.array(image, dtype=np.uint8)\n",
    "    if new_image.ndim == 2:\n",
    "        pass\n",
    "    elif new_image.shape[2] == 3:\n",
    "        new_image = cv2.cvtColor(new_image, cv2.COLOR_RGB2BGR)\n",
    "    elif new_image.shape[2] == 4:\n",
    "        new_image = cv2.cvtColor(new_image, cv2.COLOR_RGBA2BGRA)\n",
    "    return new_image"
   ]
  },
  {
   "cell_type": "code",
   "execution_count": null,
   "metadata": {},
   "outputs": [],
   "source": [
    "Image.MAX_IMAGE_PIXELS = 1000000000"
   ]
  },
  {
   "cell_type": "code",
   "execution_count": null,
   "metadata": {},
   "outputs": [],
   "source": [
    "for image in glob.glob(\".\\\\Figures\\\\*.png\"):\n",
    "    if not os.path.isdir(image.rsplit(\".\",1)[0]):\n",
    "        os.mkdir(image.rsplit(\".\",1)[0])"
   ]
  },
  {
   "cell_type": "code",
   "execution_count": null,
   "metadata": {},
   "outputs": [],
   "source": [
    "for image in glob.glob(\".\\\\Figures\\\\*.png\"):\n",
    "    I = Image.open(image)\n",
    "    I = pil2cv(I)\n",
    "    I2 = I[470:620, 530:670]\n",
    "    cv2.imwrite(image.rsplit(\".\",1)[0]+\"\\\\\"+image.split(\"\\\\\")[-1].split(\".\")[0]+\" 0d head.png\", I2)\n",
    "    I2 = I[1630:1810, 530:630]\n",
    "    cv2.imwrite(image.rsplit(\".\",1)[0]+\"\\\\\"+image.split(\"\\\\\")[-1].split(\".\")[0]+\" 6h head.png\", I2)\n",
    "    I2 = I[2830:3020, 1330:1410]\n",
    "    cv2.imwrite(image.rsplit(\".\",1)[0]+\"\\\\\"+image.split(\"\\\\\")[-1].split(\".\")[0]+\" 12h head.png\", I2)\n",
    "    I2 = I[4020:4220, 230:320]\n",
    "    cv2.imwrite(image.rsplit(\".\",1)[0]+\"\\\\\"+image.split(\"\\\\\")[-1].split(\".\")[0]+\" 1d head.png\", I2)\n",
    "    I2 = I[5240:5430, 590:690]\n",
    "    cv2.imwrite(image.rsplit(\".\",1)[0]+\"\\\\\"+image.split(\"\\\\\")[-1].split(\".\")[0]+\" 3d head.png\", I2)\n",
    "    I2 = I[6440:6620, 550:660]\n",
    "    cv2.imwrite(image.rsplit(\".\",1)[0]+\"\\\\\"+image.split(\"\\\\\")[-1].split(\".\")[0]+\" 7d head.png\", I2)"
   ]
  },
  {
   "cell_type": "code",
   "execution_count": null,
   "metadata": {},
   "outputs": [],
   "source": [
    "for image in glob.glob(\".\\\\Figures\\\\*.png\"):\n",
    "    I = Image.open(image)\n",
    "    I = pil2cv(I)\n",
    "    I2 = I[460:630, 60:250]\n",
    "    cv2.imwrite(image.rsplit(\".\",1)[0]+\"\\\\\"+image.split(\"\\\\\")[-1].split(\".\")[0]+\" 0d tail.png\", I2)\n",
    "    I2 = I[1630:1820, 60:150]\n",
    "    cv2.imwrite(image.rsplit(\".\",1)[0]+\"\\\\\"+image.split(\"\\\\\")[-1].split(\".\")[0]+\" 6h tail.png\", I2)\n",
    "    I2 = I[2820:3020, 860:950]\n",
    "    cv2.imwrite(image.rsplit(\".\",1)[0]+\"\\\\\"+image.split(\"\\\\\")[-1].split(\".\")[0]+\" 12h tail.png\", I2)\n",
    "    I2 = I[4030:4220, 590:670]\n",
    "    cv2.imwrite(image.rsplit(\".\",1)[0]+\"\\\\\"+image.split(\"\\\\\")[-1].split(\".\")[0]+\" 1d tail.png\", I2)\n",
    "    I2 = I[5240:5440, 60:150]\n",
    "    cv2.imwrite(image.rsplit(\".\",1)[0]+\"\\\\\"+image.split(\"\\\\\")[-1].split(\".\")[0]+\" 3d tail.png\", I2)\n",
    "    I2 = I[6450:6630, 60:150]\n",
    "    cv2.imwrite(image.rsplit(\".\",1)[0]+\"\\\\\"+image.split(\"\\\\\")[-1].split(\".\")[0]+\" 7d tail.png\", I2)"
   ]
  },
  {
   "cell_type": "code",
   "execution_count": null,
   "metadata": {},
   "outputs": [],
   "source": []
  }
 ],
 "metadata": {
  "kernelspec": {
   "display_name": "Python 3",
   "language": "python",
   "name": "python3"
  },
  "language_info": {
   "codemirror_mode": {
    "name": "ipython",
    "version": 3
   },
   "file_extension": ".py",
   "mimetype": "text/x-python",
   "name": "python",
   "nbconvert_exporter": "python",
   "pygments_lexer": "ipython3",
   "version": "3.7.3"
  }
 },
 "nbformat": 4,
 "nbformat_minor": 2
}
