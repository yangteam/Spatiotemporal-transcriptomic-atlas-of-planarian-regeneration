{
 "cells": [
  {
   "cell_type": "code",
   "execution_count": 2,
   "id": "eeae73b1-463a-4f77-b7a7-adecfb76d4fe",
   "metadata": {},
   "outputs": [],
   "source": [
    "from PIL import Image\n",
    "from mpl_toolkits.mplot3d import Axes3D\n",
    "import matplotlib.pyplot as plt\n",
    "import numpy as np\n",
    "import math\n",
    "import time"
   ]
  },
  {
   "cell_type": "code",
   "execution_count": 3,
   "id": "864d90e2-f9e9-4485-a5be-42c40bc4005a",
   "metadata": {},
   "outputs": [],
   "source": [
    "import pandas as pd\n",
    "import scanpy as sc\n",
    "import seaborn as sns\n",
    "import os"
   ]
  },
  {
   "cell_type": "code",
   "execution_count": 4,
   "id": "9ce888cc-1368-4cb8-8c8a-fefbeb10fe7a",
   "metadata": {},
   "outputs": [],
   "source": [
    "def plot_3D(adata, Edges_3D, plot_gene, save=None, plot_elev=45, plot_azim=90, vmax=None, vmin=None):\n",
    "    if (plot_gene in adata.obs.columns)==False:\n",
    "        adata.obs[plot_gene] = adata[:,plot_gene].X.toarray()\n",
    "    ##########画布设置###########\n",
    "    fig = plt.figure(figsize=[5,6])\n",
    "    #ax = Axes3D(fig)\n",
    "    ax = fig.add_subplot(111, projection='3d') \n",
    "    ax.set_box_aspect(aspect = (2.2,1,1))\n",
    "\n",
    "    ax.set_xlim([0, 6000])\n",
    "    ax.set_ylim([0, 6000])\n",
    "    ax.set_zlim([0, 500])\n",
    "    plt.axis('off')\n",
    "    #ax.set_title(\"Epidermal\")\n",
    "\n",
    "\n",
    "    ax.scatter(adata.obs['X_3D'], adata.obs['Y_3D'], adata.obs['Z_3D'].map(float), alpha=0.5, vmax=vmax, vmin=vmin, c=adata.obs[plot_gene],\n",
    "               marker='o',s=10, linewidths=0,  cmap='Reds')\n",
    "\n",
    "    #plt.legend()\n",
    "    ax.scatter(Edges_3D['Aligned_X'], Edges_3D['Aligned_Y'], Edges_3D['Aligned_Z'], c='grey', marker='.', s=0.5, alpha=0.1)\n",
    "    \n",
    "    \n",
    "    ax.view_init(elev=plot_elev, azim=plot_azim)\n",
    "\n",
    "    if (save is None)==False:\n",
    "        plt.savefig(save, dpi=300, bbox_inches='tight')"
   ]
  },
  {
   "cell_type": "code",
   "execution_count": 5,
   "id": "956d92cb-8fcf-4c3b-8289-2c298fb5d4b2",
   "metadata": {},
   "outputs": [],
   "source": [
    "def plot_3D_FISH(adata, Edges_3D, plot_gene, save=None, plot_elev=-90, plot_azim=-90, vmax=None, vmin=None):\n",
    "    if (plot_gene in adata.obs.columns)==False:\n",
    "        adata.obs[plot_gene] = adata[:,plot_gene].X.toarray()\n",
    "    ##########画布设置###########\n",
    "    fig = plt.figure(figsize=[5,6])\n",
    "    #ax = Axes3D(fig)\n",
    "    ax = fig.add_subplot(111, projection='3d') \n",
    "    ax.set_box_aspect(aspect = (2.2,1,1))\n",
    "\n",
    "    ax.set_xlim([0, 6000])\n",
    "    ax.set_ylim([0, 3500])\n",
    "    ax.set_zlim([0, 500])\n",
    "    plt.axis('off')\n",
    "    #ax.set_title(\"Epidermal\")\n",
    "\n",
    "\n",
    "    ax.scatter(adata.obs['X_3D'], adata.obs['Y_3D'], adata.obs['Z_3D'].map(float), alpha=0.5, vmax=vmax, vmin=vmin, c=adata.obs[plot_gene],\n",
    "               marker='o',s=10, linewidths=0,  cmap='Reds')\n",
    "\n",
    "    #plt.legend()\n",
    "    ax.scatter(Edges_3D['Aligned_X'], Edges_3D['Aligned_Y'], Edges_3D['Aligned_Z'], c='grey', marker='.', s=0.5, alpha=0.1)\n",
    "    \n",
    "    \n",
    "    ax.view_init(elev=plot_elev, azim=plot_azim)\n",
    "\n",
    "    if (save is None)==False:\n",
    "        plt.savefig(save, dpi=300, bbox_inches='tight')"
   ]
  },
  {
   "cell_type": "code",
   "execution_count": 6,
   "id": "4de53509-c6e9-42d2-93be-d62f4fa805d4",
   "metadata": {},
   "outputs": [],
   "source": [
    "def plot_2D(adata, plot_gene, save=None, temp_tp=None):\n",
    "    if (plot_gene in adata.obs.columns)==False:\n",
    "        adata.obs[plot_gene] = adata[:,plot_gene].X.toarray()\n",
    "    section_list = ['A1', 'B1', 'C1', 'D1']\n",
    "    \n",
    "    adata_spatial = adata.copy()\n",
    "    fig, axs = plt.subplots(1, 4, figsize=(20, 5))\n",
    "\n",
    "    it = 0\n",
    "    for section_it in section_list:\n",
    "        ad = adata_spatial[adata_spatial.obs.library_id == temp_tp+'_'+section_it, :].copy()\n",
    "        if section_it == 'D1':\n",
    "            sc.pl.spatial(\n",
    "                ad,\n",
    "                img_key=\"hires\",\n",
    "                color=plot_gene,\n",
    "                library_id=temp_tp+'_'+section_it,\n",
    "                size=1.5,\n",
    "                show=False,\n",
    "                ax=axs[it],\n",
    "                title=section_it\n",
    "            )\n",
    "        else:\n",
    "            sc.pl.spatial(\n",
    "                ad,\n",
    "                img_key=\"hires\",\n",
    "                color=plot_gene,\n",
    "                library_id=temp_tp+'_'+section_it,\n",
    "                size=1.5,\n",
    "                legend_loc=None,\n",
    "                show=False,\n",
    "                ax=axs[it],\n",
    "                title=section_it\n",
    "            )\n",
    "        it += 1\n",
    "    #plt.suptitle(temp_title)\n",
    "    if (save is None)==False:\n",
    "        plt.savefig(save, dpi=300, bbox_inches='tight')"
   ]
  },
  {
   "cell_type": "markdown",
   "id": "0ee808bc-786c-4f2b-b7ec-171132cd4cc9",
   "metadata": {},
   "source": [
    "# Load Data"
   ]
  },
  {
   "cell_type": "code",
   "execution_count": 8,
   "id": "573401c0-fb29-4f49-a86b-6a674d90490c",
   "metadata": {},
   "outputs": [
    {
     "data": {
      "text/plain": [
       "AnnData object with n_obs × n_vars = 10156 × 27664\n",
       "    obs: 'in_tissue', 'array_row', 'array_col', 'n_genes_by_counts', 'log1p_n_genes_by_counts', 'total_counts', 'log1p_total_counts', 'pct_counts_in_top_50_genes', 'pct_counts_in_top_100_genes', 'pct_counts_in_top_200_genes', 'pct_counts_in_top_500_genes', 'library_id', 'X_3D', 'Y_3D', 'Z_3D', 'Aligned_X', 'Aligned_Y', 'Aligned_Z', 'barcode', 'Section_id', 'AP_Info', 'cell2location_Epidermal', 'cell2location_Gut', 'cell2location_Muscle', 'cell2location_Neoblast', 'cell2location_Neuronal', 'cell2location_Parenchymal', 'cell2location_Secretory', 'STAGATE'\n",
       "    var: 'gene_ids', 'feature_types', 'genome', 'n_cells_by_counts-cut12h_A1', 'mean_counts-cut12h_A1', 'log1p_mean_counts-cut12h_A1', 'pct_dropout_by_counts-cut12h_A1', 'total_counts-cut12h_A1', 'log1p_total_counts-cut12h_A1', 'n_cells_by_counts-cut12h_B1', 'mean_counts-cut12h_B1', 'log1p_mean_counts-cut12h_B1', 'pct_dropout_by_counts-cut12h_B1', 'total_counts-cut12h_B1', 'log1p_total_counts-cut12h_B1', 'n_cells_by_counts-cut12h_C1', 'mean_counts-cut12h_C1', 'log1p_mean_counts-cut12h_C1', 'pct_dropout_by_counts-cut12h_C1', 'total_counts-cut12h_C1', 'log1p_total_counts-cut12h_C1', 'n_cells_by_counts-cut12h_D1', 'mean_counts-cut12h_D1', 'log1p_mean_counts-cut12h_D1', 'pct_dropout_by_counts-cut12h_D1', 'total_counts-cut12h_D1', 'log1p_total_counts-cut12h_D1'\n",
       "    uns: 'Edges_3D', 'STAGATE_colors', 'spatial'\n",
       "    obsm: 'spatial'"
      ]
     },
     "execution_count": 8,
     "metadata": {},
     "output_type": "execute_result"
    }
   ],
   "source": [
    "adata = sc.read('../../Data/Visium/Visium_12hpa.h5ad')\n",
    "adata"
   ]
  },
  {
   "cell_type": "code",
   "execution_count": 9,
   "id": "fc504383-1ab9-4083-801b-9c22df4776cf",
   "metadata": {},
   "outputs": [],
   "source": [
    "sc.pp.normalize_total(adata, target_sum=1e4)\n",
    "sc.pp.log1p(adata)"
   ]
  },
  {
   "cell_type": "code",
   "execution_count": 10,
   "id": "a9d4e626-2406-4d20-97d7-3e2e11a56c96",
   "metadata": {},
   "outputs": [],
   "source": [
    "Edges_3D = adata.uns['Edges_3D']"
   ]
  },
  {
   "cell_type": "markdown",
   "id": "cd783664-6a97-4a40-8375-9233d1750cea",
   "metadata": {},
   "source": [
    "# plotting"
   ]
  },
  {
   "cell_type": "code",
   "execution_count": 11,
   "id": "8aab8fd0-e152-403b-9556-c45b3eeedd04",
   "metadata": {},
   "outputs": [],
   "source": [
    "Marker_list = ['SMED30002663', 'SMED30022580', 'SMED30007406', 'SMED30025780', 'SMED30034500','SMED30035373','SMED30003443','SMED30029842','SMED30013255']\n",
    "Marker_Symbol = ['traf3', 'runt-1', 'smedwi-1', 'plk1', 'egr2', 'hdac1', 'mboat2', 'smed29842', 'ftm']"
   ]
  },
  {
   "cell_type": "code",
   "execution_count": null,
   "id": "a72319fc-09ca-4c46-a6ec-3d54d48a3c25",
   "metadata": {},
   "outputs": [],
   "source": [
    "#using different vmax\n",
    "for it in range(len(Marker_list)):\n",
    "    plot_gene = Marker_list[it]\n",
    "    plot_symbol = Marker_Symbol[it]\n",
    "    \n",
    "    output_file = os.path.join('Images/12hpa/', plot_gene+' ('+plot_symbol+')_FISH.png')\n",
    "    plot_3D_FISH(adata, Edges_3D, plot_gene, save=output_file, vmax=1)"
   ]
  },
  {
   "cell_type": "code",
   "execution_count": null,
   "id": "50f4b62e-7186-4619-ad3a-c788bab7284d",
   "metadata": {},
   "outputs": [],
   "source": []
  }
 ],
 "metadata": {
  "kernelspec": {
   "display_name": "Python 3 (ipykernel)",
   "language": "python",
   "name": "python3"
  },
  "language_info": {
   "codemirror_mode": {
    "name": "ipython",
    "version": 3
   },
   "file_extension": ".py",
   "mimetype": "text/x-python",
   "name": "python",
   "nbconvert_exporter": "python",
   "pygments_lexer": "ipython3",
   "version": "3.9.7"
  }
 },
 "nbformat": 4,
 "nbformat_minor": 5
}
