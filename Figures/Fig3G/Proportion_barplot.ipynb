{
 "cells": [
  {
   "cell_type": "code",
   "execution_count": 1,
   "id": "89aacf61-2e66-4978-998c-46b880029fb7",
   "metadata": {},
   "outputs": [],
   "source": [
    "import pandas as pd\n",
    "import numpy as np\n",
    "import scanpy as sc\n",
    "import os\n",
    "import seaborn as sns\n",
    "import matplotlib.pyplot as plt\n",
    "from sklearn.utils import shuffle"
   ]
  },
  {
   "cell_type": "code",
   "execution_count": 2,
   "id": "0b3cfbb8-ebf1-472f-9bce-d42de23e7eca",
   "metadata": {},
   "outputs": [],
   "source": [
    "import matplotlib as mpl\n",
    "mpl.rcParams['font.sans-serif'] = ['Arial']"
   ]
  },
  {
   "cell_type": "code",
   "execution_count": 3,
   "id": "7c5c271d-ba4c-45d2-9693-67f08a61b5b9",
   "metadata": {},
   "outputs": [],
   "source": [
    "sns.set_style(\"ticks\")"
   ]
  },
  {
   "cell_type": "code",
   "execution_count": 4,
   "id": "2ca57e10-5a2e-42ad-8172-83b87a26dcea",
   "metadata": {},
   "outputs": [],
   "source": [
    "adata = sc.read('../../Data/adata_Neoblast.h5ad')"
   ]
  },
  {
   "cell_type": "code",
   "execution_count": 5,
   "id": "98250b8e-e260-4f08-be3d-01e94e64495b",
   "metadata": {},
   "outputs": [],
   "source": [
    "labels = ['cut0d', 'cut6h', 'cut12h', 'cut24h', 'cut2d', 'cut3d', 'cut5d', 'cut7d']\n",
    "colors = ['#974FA2', '#E3191C', '#FA9A99', '#C1806C', '#67C1A4', '#FF7E00', '#757575', '#000000']"
   ]
  },
  {
   "cell_type": "code",
   "execution_count": 6,
   "id": "d68e9b7e-19b8-46c1-9154-a7045d5ff9ff",
   "metadata": {},
   "outputs": [],
   "source": [
    "df = pd.DataFrame(columns=np.unique(adata.obs['TimePoint']), index=np.unique(adata.obs['clusters']))\n",
    "dkn = pd.value_counts(adata.obs['clusters'])\n",
    "for temp_tp in np.unique(adata.obs['TimePoint']):\n",
    "    for temp_label in np.unique(adata.obs['clusters']):\n",
    "        temp_num = adata.obs.loc[(adata.obs['TimePoint'] == temp_tp) & (adata.obs['clusters'] == temp_label),:].shape[0]\n",
    "        df.loc[temp_label, temp_tp] = temp_num/dkn[temp_label]"
   ]
  },
  {
   "cell_type": "code",
   "execution_count": 7,
   "id": "ee572fdd-4cd0-4c80-8829-2faf80192893",
   "metadata": {},
   "outputs": [],
   "source": [
    "df = df.loc[['C'+str(x) for x in range(27)],]"
   ]
  },
  {
   "cell_type": "code",
   "execution_count": 8,
   "id": "2090108f-20fe-4811-a807-3934cfcc859a",
   "metadata": {},
   "outputs": [],
   "source": [
    "plt.rcParams['font.size'] = 5\n",
    "plt.rcParams['font.sans-serif'] = 'Arial'\n",
    "plt.rcParams[\"font.family\"]='Arial'"
   ]
  },
  {
   "cell_type": "code",
   "execution_count": 9,
   "id": "ee2f3d80-253f-4abe-85bf-7b0ac442db3b",
   "metadata": {},
   "outputs": [
    {
     "data": {
      "image/png": "[encoded data removed]",
      "text/plain": [
       "<Figure size 288x108 with 1 Axes>"
      ]
     },
     "metadata": {},
     "output_type": "display_data"
    }
   ],
   "source": [
    "fig, ax = plt.subplots(1, figsize=(4, 1.5))\n",
    "left = len(df) * [0]\n",
    "for idx, name in enumerate(labels):\n",
    "    plt.bar(df.index, df[name], bottom = left, color=colors[idx],lw=0)#,height=1)#, edgecolor='black')\n",
    "    left = left + df[name]\n",
    "plt.xlim(-0.5,26.5)\n",
    "plt.ylim([0,1])\n",
    "plt.yticks([0,0.25,0.5,0.75,1],fontsize=8, family='Arial')\n",
    "plt.xticks(fontsize=8, rotation=90, family='Arial')\n",
    "sns.despine()\n",
    "plt.savefig('Neoblast_Proportion_barplot.png', bbox_inches='tight')"
   ]
  },
  {
   "cell_type": "code",
   "execution_count": null,
   "id": "377ea3e6-5ebf-4faf-982b-d00f07a4d588",
   "metadata": {},
   "outputs": [],
   "source": []
  }
 ],
 "metadata": {
  "kernelspec": {
   "display_name": "Python 3 (ipykernel)",
   "language": "python",
   "name": "python3"
  },
  "language_info": {
   "codemirror_mode": {
    "name": "ipython",
    "version": 3
   },
   "file_extension": ".py",
   "mimetype": "text/x-python",
   "name": "python",
   "nbconvert_exporter": "python",
   "pygments_lexer": "ipython3",
   "version": "3.9.7"
  }
 },
 "nbformat": 4,
 "nbformat_minor": 5
}
